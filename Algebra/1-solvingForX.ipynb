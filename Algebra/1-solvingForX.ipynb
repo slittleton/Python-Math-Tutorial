{
 "cells": [
  {
   "cell_type": "code",
   "execution_count": 11,
   "metadata": {},
   "outputs": [],
   "source": [
    "import sympy as sym\n",
    "from IPython.display import display, Math\n",
    "\n",
    "# sympy assumes the supplied equation is equal to zero (Homogenous Form) when it solves it"
   ]
  },
  {
   "cell_type": "code",
   "execution_count": 12,
   "metadata": {},
   "outputs": [
    {
     "name": "stdout",
     "output_type": "stream",
     "text": [
      "[5/2]\n"
     ]
    },
    {
     "data": {
      "text/latex": [
       "$\\displaystyle \\text{The Solution is } 2 x - 5 \\text{ is x = }2.5$"
      ],
      "text/plain": [
       "<IPython.core.display.Math object>"
      ]
     },
     "metadata": {},
     "output_type": "display_data"
    }
   ],
   "source": [
    "x = sym.symbols('x')\n",
    "expr = 2*x + 4-9\n",
    "sym.solve(expr)\n",
    "\n",
    "answer = sym.solve(expr)\n",
    "\n",
    "print(str(answer))\n",
    "\n",
    "display(Math('\\\\text{The Solution is } %s \\\\text{ is x = }%g' %(sym.latex(expr), sym.solve(expr)[0])))\n",
    "\n",
    "\n",
    "# sym.solve() outputs a list because some equations may have multiple answers such as x**2 = +2 or -2\n"
   ]
  },
  {
   "cell_type": "code",
   "execution_count": 13,
   "metadata": {},
   "outputs": [
    {
     "name": "stdout",
     "output_type": "stream",
     "text": [
      "Solution #1 is -2\n",
      "Solution #2 is 2\n"
     ]
    }
   ],
   "source": [
    "# print solutions in list after solving equation in homogenous form\n",
    "expr = x**2 -4\n",
    "sol = sym.solve(expr)\n",
    "\n",
    "for i in range(0, len(sol)):\n",
    "    print('Solution #' + str(i+1) + ' is ' + str(sol[i]))\n"
   ]
  },
  {
   "cell_type": "code",
   "execution_count": 14,
   "metadata": {},
   "outputs": [
    {
     "name": "stdout",
     "output_type": "stream",
     "text": [
      "[(x + 20)/(4*x)]\n"
     ]
    }
   ],
   "source": [
    "# Solve For a specific variable in a multiple variable equation\n",
    "y = sym.symbols('y')\n",
    "\n",
    "expr = x/4 - x*y + 5\n",
    "\n",
    "sol = sym.solve(expr, y)\n",
    "print(sol)\n"
   ]
  },
  {
   "cell_type": "code",
   "execution_count": 15,
   "metadata": {},
   "outputs": [
    {
     "data": {
      "text/latex": [
       "$\\displaystyle - 2 q + 2 + \\frac{3}{q}$"
      ],
      "text/plain": [
       "<IPython.core.display.Math object>"
      ]
     },
     "metadata": {},
     "output_type": "display_data"
    },
    {
     "data": {
      "text/latex": [
       "$\\displaystyle q = \\left[ \\frac{1}{2} - \\frac{\\sqrt{7}}{2}, \\  \\frac{1}{2} + \\frac{\\sqrt{7}}{2}\\right]$"
      ],
      "text/plain": [
       "<IPython.core.display.Math object>"
      ]
     },
     "metadata": {},
     "output_type": "display_data"
    }
   ],
   "source": [
    "# EXAMPLE 1\n",
    "q = sym.symbols('q')\n",
    "eq = 3*q + 4/q + 3 - 5*q - 1/q -1\n",
    "\n",
    "display(Math(sym.latex(eq.simplify())))\n",
    "\n",
    "display(Math('q = ' + sym.latex(sym.solve(eq,q))))"
   ]
  },
  {
   "cell_type": "code",
   "execution_count": 16,
   "metadata": {},
   "outputs": [
    {
     "data": {
      "text/latex": [
       "$\\displaystyle 3 q^{2} + 2 q - \\frac{5}{q} - \\frac{4}{q^{3}}$"
      ],
      "text/plain": [
       "<IPython.core.display.Math object>"
      ]
     },
     "metadata": {},
     "output_type": "display_data"
    },
    {
     "data": {
      "text/latex": [
       "$\\displaystyle \\frac{3 q^{5} + 2 q^{4} - 5 q^{2} - 4}{q^{3}}$"
      ],
      "text/plain": [
       "<IPython.core.display.Math object>"
      ]
     },
     "metadata": {},
     "output_type": "display_data"
    }
   ],
   "source": [
    "# EXAMPLE 2 Canceling Out terms\n",
    "\n",
    "eq = 2*q + 3*q**2 -5/q - 4/q**3\n",
    "\n",
    "display(Math(sym.latex(eq)))\n",
    "\n",
    "# sym.cancel()  Cancel common factors in a rational function\n",
    "display(Math(sym.latex(sym.cancel(eq))))\n",
    "\n",
    "\n"
   ]
  },
  {
   "cell_type": "code",
   "execution_count": 17,
   "metadata": {},
   "outputs": [
    {
     "data": {
      "text/latex": [
       "$\\displaystyle \\frac{\\sqrt{15} q + \\sqrt{3}}{\\sqrt{10} q + \\sqrt{2}}$"
      ],
      "text/plain": [
       "<IPython.core.display.Math object>"
      ]
     },
     "metadata": {},
     "output_type": "display_data"
    },
    {
     "data": {
      "text/latex": [
       "$\\displaystyle \\frac{\\sqrt{6}}{2}$"
      ],
      "text/plain": [
       "<IPython.core.display.Math object>"
      ]
     },
     "metadata": {},
     "output_type": "display_data"
    },
    {
     "data": {
      "text/latex": [
       "$\\displaystyle \\frac{\\sqrt{3} + 10 \\sqrt{15}}{\\sqrt{2} + 10 \\sqrt{10}}$"
      ],
      "text/plain": [
       "(sqrt(3) + 10*sqrt(15))/(sqrt(2) + 10*sqrt(10))"
      ]
     },
     "metadata": {},
     "output_type": "display_data"
    },
    {
     "data": {
      "text/latex": [
       "$\\displaystyle 1.22474487139159$"
      ],
      "text/plain": [
       "1.22474487139159"
      ]
     },
     "metadata": {},
     "output_type": "display_data"
    }
   ],
   "source": [
    "# EXAMPLE 3 Simplifying Expressions\n",
    "\n",
    "expr = (sym.sqrt(3) + sym.sqrt(15)*q) / (sym.sqrt(2) + sym.sqrt(10)*q)\n",
    "\n",
    "display(Math(sym.latex(expr)))\n",
    "display(Math(sym.latex(sym.simplify(expr))))\n",
    "\n",
    "\n",
    "answer = expr.subs(q,10)\n",
    "# this will put the value 10 in for q but it will not evaluate the expression\n",
    "display(answer)\n",
    "\n",
    "# evalF() will evaluate the expression\n",
    "display(expr.subs(q,3).evalf())\n",
    "\n",
    "\n"
   ]
  },
  {
   "cell_type": "code",
   "execution_count": 25,
   "metadata": {},
   "outputs": [
    {
     "name": "stdout",
     "output_type": "stream",
     "text": [
      "x*(4*x + 5)\n",
      "4*x**2 + 5*x\n"
     ]
    },
    {
     "data": {
      "text/latex": [
       "$\\displaystyle x \\left(4 x + 5\\right)$"
      ],
      "text/plain": [
       "<IPython.core.display.Math object>"
      ]
     },
     "metadata": {},
     "output_type": "display_data"
    },
    {
     "data": {
      "text/latex": [
       "$\\displaystyle 4 x^{2} + 5 x$"
      ],
      "text/plain": [
       "<IPython.core.display.Math object>"
      ]
     },
     "metadata": {},
     "output_type": "display_data"
    },
    {
     "data": {
      "text/latex": [
       "$\\displaystyle x \\left(- \\frac{5^{x}}{x} + 2 y^{2}\\right)$"
      ],
      "text/plain": [
       "<IPython.core.display.Math object>"
      ]
     },
     "metadata": {},
     "output_type": "display_data"
    },
    {
     "data": {
      "text/latex": [
       "$\\displaystyle - 5^{x} + 2 x y^{2}$"
      ],
      "text/plain": [
       "<IPython.core.display.Math object>"
      ]
     },
     "metadata": {},
     "output_type": "display_data"
    },
    {
     "name": "stdout",
     "output_type": "stream",
     "text": [
      "Variable   Type        Data/Info\n",
      "--------------------------------\n",
      "Fxy        Mul         (2 - y)*(x + 4)\n",
      "Math       type        <class 'IPython.core.display.Math'>\n",
      "answer     Mul         (sqrt(3) + 10*sqrt(15))/(sqrt(2) + 10*sqrt(10))\n",
      "display    function    <function display at 0x7f9050340700>\n",
      "eq         Add         3*q**2 + 2*q - 5/q - 4/q**3\n",
      "expr       Mul         x*(-5**x/x + 2*y**2)\n",
      "i          int         1\n",
      "os         module      <module 'os' from '/usr/lib/python3.10/os.py'>\n",
      "q          Symbol      q\n",
      "sol        list        n=1\n",
      "sym        module      <module 'sympy' from '/ho<...>kages/sympy/__init__.py'>\n",
      "sys        module      <module 'sys' (built-in)>\n",
      "term1      Add         4*x + 5\n",
      "term2      Symbol      x\n",
      "x          Symbol      x\n",
      "y          Symbol      y\n"
     ]
    },
    {
     "data": {
      "text/latex": [
       "$\\displaystyle - x y + 2 x - 4 y + 8$"
      ],
      "text/plain": [
       "<IPython.core.display.Math object>"
      ]
     },
     "metadata": {},
     "output_type": "display_data"
    },
    {
     "name": "stdout",
     "output_type": "stream",
     "text": [
      "When x = 0 and y = 0, f(x,y)=8\n",
      "When x = 0 and y = 1, f(x,y)=4\n",
      "When x = 0 and y = 2, f(x,y)=0\n",
      "When x = 1 and y = 0, f(x,y)=10\n",
      "When x = 1 and y = 1, f(x,y)=5\n",
      "When x = 1 and y = 2, f(x,y)=0\n",
      "When x = 2 and y = 0, f(x,y)=12\n",
      "When x = 2 and y = 1, f(x,y)=6\n",
      "When x = 2 and y = 2, f(x,y)=0\n"
     ]
    }
   ],
   "source": [
    "# Expanding Terms\n",
    "# alternate way to create single letter variable\n",
    "from sympy.abc import x\n",
    "from sympy.abc import y\n",
    "\n",
    "\n",
    "term1 = 4*x + 5\n",
    "term2 = x\n",
    "\n",
    "\n",
    "print(term1*term2)\n",
    "print(sym.expand(term1*term2))\n",
    "display(Math(sym.latex(term1*term2)))\n",
    "display(Math(sym.latex(sym.expand(term1*term2))))\n",
    "\n",
    "expr = x*(2*y**2-5**x/x)\n",
    "display(Math(sym.latex(expr)))\n",
    "display(Math(sym.latex(sym.expand(expr))))\n",
    "\n",
    "%whos\n",
    "# %whos shows all the values and expressions you have created and imported in the python file\n"
   ]
  },
  {
   "cell_type": "code",
   "execution_count": 27,
   "metadata": {},
   "outputs": [
    {
     "data": {
      "text/latex": [
       "$\\displaystyle - x y + 2 x - 4 y + 8$"
      ],
      "text/plain": [
       "<IPython.core.display.Math object>"
      ]
     },
     "metadata": {},
     "output_type": "display_data"
    },
    {
     "name": "stdout",
     "output_type": "stream",
     "text": [
      "numrange = range(0, 3)\n",
      "When x = 0 and y = 0, f(x,y)=8\n",
      "When x = 0 and y = 1, f(x,y)=4\n",
      "When x = 0 and y = 2, f(x,y)=0\n",
      "When x = 1 and y = 0, f(x,y)=10\n",
      "When x = 1 and y = 1, f(x,y)=5\n",
      "When x = 1 and y = 2, f(x,y)=0\n",
      "When x = 2 and y = 0, f(x,y)=12\n",
      "When x = 2 and y = 1, f(x,y)=6\n",
      "When x = 2 and y = 2, f(x,y)=0\n"
     ]
    }
   ],
   "source": [
    "\n",
    "Fxy = (4 +x)*(2-y)\n",
    "display(Math(sym.latex(sym.expand(Fxy))))\n",
    "\n",
    "\n",
    "#Substitute values in for x and y\n",
    "\n",
    "\n",
    "numrange = range(0,3)\n",
    "\n",
    "print(\"numrange = \" + str(numrange) )\n",
    "\n",
    "for xi in numrange:\n",
    "    for yi in numrange:\n",
    "        print('When x = %g and y = %g, f(x,y)=%g'%(xi,yi,Fxy.subs({x:xi,y:yi})) )\n"
   ]
  }
 ],
 "metadata": {
  "kernelspec": {
   "display_name": "Python 3.10.6 64-bit",
   "language": "python",
   "name": "python3"
  },
  "language_info": {
   "codemirror_mode": {
    "name": "ipython",
    "version": 3
   },
   "file_extension": ".py",
   "mimetype": "text/x-python",
   "name": "python",
   "nbconvert_exporter": "python",
   "pygments_lexer": "ipython3",
   "version": "3.10.6"
  },
  "orig_nbformat": 4,
  "vscode": {
   "interpreter": {
    "hash": "916dbcbb3f70747c44a77c7bcd40155683ae19c65e1c03b4aa3499c5328201f1"
   }
  }
 },
 "nbformat": 4,
 "nbformat_minor": 2
}
