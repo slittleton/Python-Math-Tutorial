{
 "cells": [
  {
   "cell_type": "code",
   "execution_count": 31,
   "metadata": {},
   "outputs": [],
   "source": [
    "import sympy as sym\n",
    "import numpy as np\n",
    "from IPython.display import display,Math"
   ]
  },
  {
   "cell_type": "code",
   "execution_count": 32,
   "metadata": {},
   "outputs": [
    {
     "data": {
      "text/latex": [
       "$\\displaystyle \\left[\\begin{matrix}1 & 2\\\\3 & 4\\end{matrix}\\right]$"
      ],
      "text/plain": [
       "<IPython.core.display.Math object>"
      ]
     },
     "metadata": {},
     "output_type": "display_data"
    }
   ],
   "source": [
    "# convert list of lists to numpy array\n",
    "A = np.array([ [1,2], [3,4] ])\n",
    "\n",
    "\n",
    "display(Math(sym.latex(sym.sympify(A))))"
   ]
  },
  {
   "cell_type": "code",
   "execution_count": 33,
   "metadata": {},
   "outputs": [
    {
     "data": {
      "text/latex": [
       "$\\displaystyle \\left[\\begin{matrix}0.0 & 0.0 & 0.0 & 0.0 & 0.0 & 0.0\\\\0.0 & 0.0 & 0.0 & 0.0 & 0.0 & 0.0\\\\0.0 & 0.0 & 0.0 & 0.0 & 0.0 & 0.0\\\\0.0 & 0.0 & 0.0 & 0.0 & 0.0 & 0.0\\end{matrix}\\right]$"
      ],
      "text/plain": [
       "<IPython.core.display.Math object>"
      ]
     },
     "metadata": {},
     "output_type": "display_data"
    },
    {
     "data": {
      "text/latex": [
       "$\\displaystyle \\left[\\begin{matrix}0.0 & 7.0 & 0.0 & 0.0 & 0.0 & 0.0\\\\0.0 & 0.0 & 0.0 & 0.0 & 0.0 & 0.0\\\\0.0 & 0.0 & 0.0 & 4.0 & 0.0 & 0.0\\\\0.0 & 0.0 & 0.0 & 0.0 & 3.0 & 0.0\\end{matrix}\\right]$"
      ],
      "text/plain": [
       "<IPython.core.display.Math object>"
      ]
     },
     "metadata": {},
     "output_type": "display_data"
    }
   ],
   "source": [
    "# create a matrix of some nXm  with zeros as values\n",
    "\n",
    "M1 = np.zeros([4,6])\n",
    "\n",
    "def showM(matrixName): display(Math(sym.latex(sym.sympify(matrixName))))\n",
    "showM(M1)\n",
    "\n",
    "\n",
    "# change values of specific cells - remember arrays start at 0 so row 1 is actually row zero etc\n",
    "M1[2,3] = 4\n",
    "M1[0,1] = 7\n",
    "M1[3,4] = 3\n",
    "\n",
    "showM(M1)\n",
    "\n"
   ]
  },
  {
   "cell_type": "code",
   "execution_count": 34,
   "metadata": {},
   "outputs": [
    {
     "data": {
      "text/latex": [
       "$\\displaystyle \\left[\\begin{matrix}1.0 & -1.0 & 1.0 & -1.0 & 0.0 & 0.0\\\\-1.0 & 1.0 & -1.0 & 1.0 & 0.0 & 0.0\\\\1.0 & -1.0 & 1.0 & -1.0 & 0.0 & 0.0\\\\-1.0 & 1.0 & -1.0 & 1.0 & 3.0 & 0.0\\end{matrix}\\right]$"
      ],
      "text/plain": [
       "<IPython.core.display.Math object>"
      ]
     },
     "metadata": {},
     "output_type": "display_data"
    }
   ],
   "source": [
    "# use a loop to change matrix values\n",
    "numrange = range(0,4)\n",
    "\n",
    "for rowi in numrange:\n",
    "    for coli in numrange:\n",
    "        M1[rowi,coli] = (-1)**(rowi+coli)\n",
    "\n",
    "showM(M1)"
   ]
  },
  {
   "cell_type": "code",
   "execution_count": 35,
   "metadata": {},
   "outputs": [
    {
     "data": {
      "text/latex": [
       "$\\displaystyle \\left[\\begin{matrix}8.0 & 4.0 & 0.0\\\\10.0 & 5.0 & 0.0\\\\12.0 & 6.0 & 0.0\\end{matrix}\\right]$"
      ],
      "text/plain": [
       "<IPython.core.display.Math object>"
      ]
     },
     "metadata": {},
     "output_type": "display_data"
    }
   ],
   "source": [
    "x,y = sym.symbols(\"x y\")\n",
    "Fxy = (4+x)*(2-y)\n",
    "\n",
    "xyset = range(0,3)\n",
    "\n",
    "outmat = np.zeros([len(xyset), len(xyset)])\n",
    "\n",
    "for rowi in xyset:\n",
    "    for coli in xyset:\n",
    "      outmat[rowi,coli] = Fxy.subs({x:rowi, y:coli})\n",
    "\n",
    "display(Math(sym.latex(sym.sympify(outmat))))\n",
    "\n",
    "\n"
   ]
  },
  {
   "cell_type": "code",
   "execution_count": null,
   "metadata": {},
   "outputs": [],
   "source": []
  }
 ],
 "metadata": {
  "kernelspec": {
   "display_name": "Python 3.10.6 64-bit",
   "language": "python",
   "name": "python3"
  },
  "language_info": {
   "codemirror_mode": {
    "name": "ipython",
    "version": 3
   },
   "file_extension": ".py",
   "mimetype": "text/x-python",
   "name": "python",
   "nbconvert_exporter": "python",
   "pygments_lexer": "ipython3",
   "version": "3.10.6"
  },
  "orig_nbformat": 4,
  "vscode": {
   "interpreter": {
    "hash": "916dbcbb3f70747c44a77c7bcd40155683ae19c65e1c03b4aa3499c5328201f1"
   }
  }
 },
 "nbformat": 4,
 "nbformat_minor": 2
}
