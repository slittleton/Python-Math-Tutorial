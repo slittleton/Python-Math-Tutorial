{
 "cells": [
  {
   "cell_type": "code",
   "execution_count": 13,
   "id": "43337b69-40c0-43c5-aa10-318cafbdd6dd",
   "metadata": {},
   "outputs": [
    {
     "data": {
      "text/plain": [
       "'\\nsymbolic vs numerical math\\n\\nsymbolic math uses symbols instead of actual numbers such as a symbol for pi instead of 3.14159....\\n\\n\\nThe Sympy module allows you to work with symbolic numbers instead of numerical numbers\\n\\n\\n'"
      ]
     },
     "execution_count": 13,
     "metadata": {},
     "output_type": "execute_result"
    }
   ],
   "source": [
    "import sympy as sym\n",
    "import numpy as np\n",
    "from IPython.display import display, Math\n",
    "sym.init_printing\n",
    "\n",
    "'''\n",
    "symbolic vs numerical math\n",
    "\n",
    "symbolic math uses symbols instead of actual numbers such as a symbol for pi instead of 3.14159....\n",
    "\n",
    "\n",
    "The Sympy module allows you to work with symbolic numbers instead of numerical numbers\n",
    "\n",
    "\n",
    "Sympy makes your equations look beautiful and it solves them.\n",
    "\n",
    "LaTeX makes your equations beautiful without actually evaluating them.\n",
    "\n",
    "Numpy just solves the equations as they are, without making them look beautiful.\n",
    "\n",
    "'''\n",
    "\n",
    "\n",
    "\n"
   ]
  },
  {
   "cell_type": "code",
   "execution_count": 14,
   "id": "dcd3308d-753a-41fc-a060-18708c02c6e8",
   "metadata": {},
   "outputs": [
    {
     "data": {
      "text/latex": [
       "$\\displaystyle x^{y}$"
      ],
      "text/plain": [
       "x**y"
      ]
     },
     "metadata": {},
     "output_type": "display_data"
    },
    {
     "data": {
      "text/latex": [
       "$\\displaystyle \\frac{x}{y}$"
      ],
      "text/plain": [
       "x/y"
      ]
     },
     "metadata": {},
     "output_type": "display_data"
    },
    {
     "data": {
      "text/plain": [
       "1.4142135623730951"
      ]
     },
     "metadata": {},
     "output_type": "display_data"
    },
    {
     "data": {
      "text/latex": [
       "$\\displaystyle \\sqrt{2}$"
      ],
      "text/plain": [
       "sqrt(2)"
      ]
     },
     "metadata": {},
     "output_type": "display_data"
    },
    {
     "data": {
      "text/latex": [
       "$\\displaystyle x^{2} y$"
      ],
      "text/plain": [
       "x**2*y"
      ]
     },
     "metadata": {},
     "output_type": "display_data"
    },
    {
     "data": {
      "text/latex": [
       "$\\displaystyle 2 x$"
      ],
      "text/plain": [
       "2*x"
      ]
     },
     "metadata": {},
     "output_type": "display_data"
    },
    {
     "data": {
      "text/latex": [
       "$\\displaystyle x$"
      ],
      "text/plain": [
       "x"
      ]
     },
     "metadata": {},
     "output_type": "display_data"
    }
   ],
   "source": [
    "x,y = sym.symbols('x,y')\n",
    "\n",
    "display(x**y)\n",
    "display(x/y)\n",
    "display(np.sqrt(2))\n",
    "display(sym.sqrt(2))\n",
    "\n",
    "display(y*x**2)\n",
    "display(sym.sqrt(4)*x)\n",
    "display(sym.sqrt(x)*sym.sqrt(x))"
   ]
  },
  {
   "cell_type": "code",
   "execution_count": 15,
   "id": "977462d0-dadd-4d37-8360-e3d75b1893af",
   "metadata": {},
   "outputs": [
    {
     "data": {
      "text/latex": [
       "$\\displaystyle \\sigma = \\mu \\times \\sqrt{5+3x-17u}$"
      ],
      "text/plain": [
       "<IPython.core.display.Math object>"
      ]
     },
     "metadata": {},
     "output_type": "display_data"
    },
    {
     "data": {
      "text/latex": [
       "$\\displaystyle x_{mm}$"
      ],
      "text/plain": [
       "<IPython.core.display.Math object>"
      ]
     },
     "metadata": {},
     "output_type": "display_data"
    },
    {
     "data": {
      "text/latex": [
       "$\\displaystyle x_mm + y^{n+2k-15}$"
      ],
      "text/plain": [
       "<IPython.core.display.Math object>"
      ]
     },
     "metadata": {},
     "output_type": "display_data"
    },
    {
     "data": {
      "text/latex": [
       "$\\displaystyle \\text{The answer to this equation is }\\frac{1+x}{2v-s^{t+4r}}$"
      ],
      "text/plain": [
       "<IPython.core.display.Math object>"
      ]
     },
     "metadata": {},
     "output_type": "display_data"
    }
   ],
   "source": [
    "display(Math('\\\\sigma = \\\\mu \\\\times \\\\sqrt{5+3x-17u}'))\n",
    "display(Math('x_{mm}'))\n",
    "display(Math('x_mm + y^{n+2k-15}'))\n",
    "display(Math('\\\\text{The answer to this equation is }\\\\frac{1+x}{2v-s^{t+4r}}'))\n"
   ]
  },
  {
   "cell_type": "markdown",
   "id": "043725bf",
   "metadata": {},
   "source": [
    "#This is a Markdown Cell\n",
    "## A Subcell\n",
    "### Even Smaller Text\n",
    "#### you can edit this cell even though it just looks like text on the screen\n",
    "This cell is not for running actual Code\n",
    "<h3>You can also put HTML in this cell</h3>\n",
    "\n",
    "You can also put Latex code in this markdown cell\n",
    "$ x_mm + y^{n+2k-15} + \\frac{x^2}{y_u}$\n",
    "\n",
    "## Break\n",
    "\n",
    "if you put Latex code in a markdown cell you only need to put one \\ before keywords like frac or sqrt\n",
    "since you do not need to escape the \\ character in markdown\n",
    "Also you need to surround your Latex Code by putting a dollar sign symbol infront of it and\n",
    "also a dollar sign symbol at the end of it"
   ]
  },
  {
   "cell_type": "code",
   "execution_count": 17,
   "id": "830318f1",
   "metadata": {},
   "outputs": [
    {
     "data": {
      "text/latex": [
       "$\\displaystyle \\sin(2)\\pi f t + \\theta$"
      ],
      "text/plain": [
       "<IPython.core.display.Math object>"
      ]
     },
     "metadata": {},
     "output_type": "display_data"
    }
   ],
   "source": [
    "display(Math('\\\\sin(2)\\\\pi f t + \\\\theta'))"
   ]
  }
 ],
 "metadata": {
  "kernelspec": {
   "display_name": "Python 3.10.6 64-bit",
   "language": "python",
   "name": "python3"
  },
  "language_info": {
   "codemirror_mode": {
    "name": "ipython",
    "version": 3
   },
   "file_extension": ".py",
   "mimetype": "text/x-python",
   "name": "python",
   "nbconvert_exporter": "python",
   "pygments_lexer": "ipython3",
   "version": "3.10.6"
  },
  "vscode": {
   "interpreter": {
    "hash": "916dbcbb3f70747c44a77c7bcd40155683ae19c65e1c03b4aa3499c5328201f1"
   }
  }
 },
 "nbformat": 4,
 "nbformat_minor": 5
}
