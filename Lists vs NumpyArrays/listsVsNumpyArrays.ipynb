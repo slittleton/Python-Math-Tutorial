{
 "cells": [
  {
   "cell_type": "code",
   "execution_count": 10,
   "metadata": {},
   "outputs": [
    {
     "name": "stdout",
     "output_type": "stream",
     "text": [
      "[1, 2, 3, 4, 5, 6, 7, 8]\n",
      "[1, 2, 3, 4, 1, 2, 3, 4, 1, 2, 3, 4]\n",
      "[ 3  6  9 12]\n",
      "1\n",
      "2\n",
      "3\n",
      "4\n",
      "the index is: 0, and the item is: a\n",
      "the index is: 1, and the item is: b\n",
      "the index is: 2, and the item is: c\n",
      "6\n",
      "the index is: 0, and the item is: a and the type is str\n",
      "the index is: 1, and the item is: b and the type is str\n",
      "the index is: 2, and the item is: c and the type is str\n"
     ]
    }
   ],
   "source": [
    "import numpy as np\n",
    "\n",
    "#Lists are different from arrays in Numpy\n",
    "#  A list in python can be concatenated with another list using + or duplicated with the * operator\n",
    "l1 = [1,2,3,4]\n",
    "l2 = [5,6,7,8]\n",
    "l3 = ['a', 'b', 'c']\n",
    "\n",
    "print(l1 + l2) \n",
    "print(l1 * 3) \n",
    "\n",
    "#  in a numpy array you can use * to multiply each number in the list by some constant\n",
    "\n",
    "npList1 = np.array(l1)\n",
    "\n",
    "print(npList1 * 3)\n",
    "\n",
    "# using the + operator with a list and an int will cause an error  npList + 3 -> error\n",
    "\n",
    "\n",
    "# looping in Python\n",
    "\n",
    "# normal for loop \n",
    "for item in l1:\n",
    "    print(item)\n",
    "\n",
    "#  for loop as range\n",
    "for idx in range(len(l3)):\n",
    "    print(f'the index is: {idx}, and the item is: {l3[idx]}')\n",
    "\n",
    "# you can use the find() method to get the index of a character in a string\n",
    "apost = \"a string\".find(\"n\")\n",
    "print(apost)\n",
    "\n",
    "# enumerate loop\n",
    "for idx, item in enumerate(l3):\n",
    "    t = str(type(item))[8:]\n",
    "    apost = t.find(\"'\")\n",
    "    print(f'the index is: {idx}, and the item is: {item} and the type is {t[0:apost]}')\n",
    "\n",
    "\n",
    "\n",
    "\n",
    "\n"
   ]
  }
 ],
 "metadata": {
  "kernelspec": {
   "display_name": "Python 3.10.6 64-bit",
   "language": "python",
   "name": "python3"
  },
  "language_info": {
   "codemirror_mode": {
    "name": "ipython",
    "version": 3
   },
   "file_extension": ".py",
   "mimetype": "text/x-python",
   "name": "python",
   "nbconvert_exporter": "python",
   "pygments_lexer": "ipython3",
   "version": "3.10.6"
  },
  "orig_nbformat": 4,
  "vscode": {
   "interpreter": {
    "hash": "916dbcbb3f70747c44a77c7bcd40155683ae19c65e1c03b4aa3499c5328201f1"
   }
  }
 },
 "nbformat": 4,
 "nbformat_minor": 2
}
