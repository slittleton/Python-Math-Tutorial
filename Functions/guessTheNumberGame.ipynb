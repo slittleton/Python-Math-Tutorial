{
 "cells": [
  {
   "cell_type": "code",
   "execution_count": 2,
   "metadata": {},
   "outputs": [
    {
     "name": "stdout",
     "output_type": "stream",
     "text": [
      "Guess a number between 1 and 100 50\n",
      "Guess Lower 25\n",
      "Guess Higher 35\n",
      "Guess Higher 45\n",
      "Guess Lower 40\n",
      "Guess Lower 39\n",
      "Guess Lower 37\n",
      "Guess Lower 36\n"
     ]
    },
    {
     "name": "stdout",
     "output_type": "stream",
     "text": [
      "Yes, You guessed the number correctly! The Number was: 36\n"
     ]
    }
   ],
   "source": [
    "from numpy import random\n",
    "\n",
    "# =============================\n",
    "# === Guess The Number Game ===\n",
    "# =============================\n",
    "\n",
    "def guessTheNumber():\n",
    "    # generate random number between 1 and 100\n",
    "    randNum = random.randint(1,101)\n",
    "\n",
    "    userGuess = int(input(\"Guess a number between 1 and 100\"))\n",
    "\n",
    "    while userGuess != randNum:\n",
    "\n",
    "        if userGuess < randNum:\n",
    "            userGuess = int(input(\"Guess Higher\"))\n",
    "\n",
    "        elif userGuess > randNum:\n",
    "           userGuess = int(input(\"Guess Lower\"))\n",
    "\n",
    "        \n",
    "\n",
    "    print(\"Yes, You guessed the number correctly! The Number was: \" + str(randNum))\n",
    "\n",
    "\n",
    "\n",
    "guessTheNumber()"
   ]
  },
  {
   "cell_type": "code",
   "execution_count": null,
   "metadata": {},
   "outputs": [],
   "source": []
  }
 ],
 "metadata": {
  "kernelspec": {
   "display_name": "Python 3 (ipykernel)",
   "language": "python",
   "name": "python3"
  },
  "language_info": {
   "codemirror_mode": {
    "name": "ipython",
    "version": 3
   },
   "file_extension": ".py",
   "mimetype": "text/x-python",
   "name": "python",
   "nbconvert_exporter": "python",
   "pygments_lexer": "ipython3",
   "version": "3.10.6"
  },
  "vscode": {
   "interpreter": {
    "hash": "916dbcbb3f70747c44a77c7bcd40155683ae19c65e1c03b4aa3499c5328201f1"
   }
  }
 },
 "nbformat": 4,
 "nbformat_minor": 4
}
