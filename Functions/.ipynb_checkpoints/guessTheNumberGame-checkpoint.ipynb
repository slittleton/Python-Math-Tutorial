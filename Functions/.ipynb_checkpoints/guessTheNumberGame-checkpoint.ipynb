{
 "cells": [
  {
   "cell_type": "code",
   "execution_count": 1,
   "metadata": {},
   "outputs": [
    {
     "name": "stdin",
     "output_type": "stream",
     "text": [
      "Guess a number between 1 and 100 25\n",
      "Guess Higher 50\n",
      "Guess Lower 35\n",
      "Guess Higher 40\n",
      "Guess Higher 45\n",
      "Guess Lower 42\n",
      "Guess Lower 41\n"
     ]
    },
    {
     "ename": "TypeError",
     "evalue": "can only concatenate str (not \"int\") to str",
     "output_type": "error",
     "traceback": [
      "\u001b[0;31m---------------------------------------------------------------------------\u001b[0m",
      "\u001b[0;31mTypeError\u001b[0m                                 Traceback (most recent call last)",
      "Cell \u001b[0;32mIn [1], line 27\u001b[0m\n\u001b[1;32m     19\u001b[0m            userGuess \u001b[38;5;241m=\u001b[39m \u001b[38;5;28mint\u001b[39m(\u001b[38;5;28minput\u001b[39m(\u001b[38;5;124m\"\u001b[39m\u001b[38;5;124mGuess Lower\u001b[39m\u001b[38;5;124m\"\u001b[39m))\n\u001b[1;32m     23\u001b[0m     \u001b[38;5;28mprint\u001b[39m(\u001b[38;5;124m\"\u001b[39m\u001b[38;5;124mYes, You guessed the number correctly! The Number was: \u001b[39m\u001b[38;5;124m\"\u001b[39m \u001b[38;5;241m+\u001b[39m randNum)\n\u001b[0;32m---> 27\u001b[0m \u001b[43mguessTheNumber\u001b[49m\u001b[43m(\u001b[49m\u001b[43m)\u001b[49m\n",
      "Cell \u001b[0;32mIn [1], line 23\u001b[0m, in \u001b[0;36mguessTheNumber\u001b[0;34m()\u001b[0m\n\u001b[1;32m     18\u001b[0m     \u001b[38;5;28;01melif\u001b[39;00m userGuess \u001b[38;5;241m>\u001b[39m randNum:\n\u001b[1;32m     19\u001b[0m        userGuess \u001b[38;5;241m=\u001b[39m \u001b[38;5;28mint\u001b[39m(\u001b[38;5;28minput\u001b[39m(\u001b[38;5;124m\"\u001b[39m\u001b[38;5;124mGuess Lower\u001b[39m\u001b[38;5;124m\"\u001b[39m))\n\u001b[0;32m---> 23\u001b[0m \u001b[38;5;28mprint\u001b[39m(\u001b[38;5;124;43m\"\u001b[39;49m\u001b[38;5;124;43mYes, You guessed the number correctly! The Number was: \u001b[39;49m\u001b[38;5;124;43m\"\u001b[39;49m\u001b[43m \u001b[49m\u001b[38;5;241;43m+\u001b[39;49m\u001b[43m \u001b[49m\u001b[43mrandNum\u001b[49m)\n",
      "\u001b[0;31mTypeError\u001b[0m: can only concatenate str (not \"int\") to str"
     ]
    }
   ],
   "source": [
    "from numpy import random\n",
    "\n",
    "# =============================\n",
    "# === Guess The Number Game ===\n",
    "# =============================\n",
    "\n",
    "def guessTheNumber():\n",
    "    # generate random number between 1 and 100\n",
    "    randNum = random.randint(1,101)\n",
    "\n",
    "    userGuess = int(input(\"Guess a number between 1 and 100\"))\n",
    "\n",
    "    while userGuess != randNum:\n",
    "\n",
    "        if userGuess < randNum:\n",
    "            userGuess = int(input(\"Guess Higher\"))\n",
    "\n",
    "        elif userGuess > randNum:\n",
    "           userGuess = int(input(\"Guess Lower\"))\n",
    "\n",
    "        \n",
    "\n",
    "    print(\"Yes, You guessed the number correctly! The Number was: \" + str(randNum))\n",
    "\n",
    "\n",
    "\n",
    "guessTheNumber()"
   ]
  },
  {
   "cell_type": "code",
   "execution_count": null,
   "metadata": {},
   "outputs": [],
   "source": []
  }
 ],
 "metadata": {
  "kernelspec": {
   "display_name": "Python 3 (ipykernel)",
   "language": "python",
   "name": "python3"
  },
  "language_info": {
   "codemirror_mode": {
    "name": "ipython",
    "version": 3
   },
   "file_extension": ".py",
   "mimetype": "text/x-python",
   "name": "python",
   "nbconvert_exporter": "python",
   "pygments_lexer": "ipython3",
   "version": "3.8.13"
  },
  "vscode": {
   "interpreter": {
    "hash": "916dbcbb3f70747c44a77c7bcd40155683ae19c65e1c03b4aa3499c5328201f1"
   }
  }
 },
 "nbformat": 4,
 "nbformat_minor": 4
}
