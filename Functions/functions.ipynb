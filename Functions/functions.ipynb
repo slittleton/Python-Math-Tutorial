{
 "cells": [
  {
   "cell_type": "code",
   "execution_count": 13,
   "metadata": {},
   "outputs": [
    {
     "name": "stdout",
     "output_type": "stream",
     "text": [
      "Hello Picky\n"
     ]
    }
   ],
   "source": [
    "from IPython.display import display, Math\n",
    "import math\n",
    "\n",
    "def myFunction(name):\n",
    "        print(\"Hello %s\" %name)\n",
    "\n",
    "myFunction('Picky')\n"
   ]
  },
  {
   "cell_type": "code",
   "execution_count": 2,
   "metadata": {},
   "outputs": [
    {
     "name": "stdout",
     "output_type": "stream",
     "text": [
      "3 goes into 9, 3 times with a remainder of 0\n",
      "1 goes into 1, 1 times with a remainder of 0\n"
     ]
    }
   ],
   "source": [
    "def computeRemainder(x=1,y=1):\n",
    "        divis = int(x/y)\n",
    "        remainder = x%y\n",
    "        msg = f'{y} goes into {x}, {divis} times with a remainder of {remainder}'\n",
    "        print(msg)\n",
    "        \n",
    "\n",
    "\n",
    "computeRemainder(9,3)\n",
    "\n",
    "computeRemainder()"
   ]
  },
  {
   "cell_type": "code",
   "execution_count": 3,
   "metadata": {},
   "outputs": [],
   "source": [
    "# a = input(\"Input a string\")\n",
    "# num1 = int(input(\"Input a number\"))\n",
    "# note: there should be a popup near the top of the screen to enter the input text\n",
    "# print(num1)"
   ]
  },
  {
   "cell_type": "code",
   "execution_count": 4,
   "metadata": {},
   "outputs": [],
   "source": [
    "def divisionWithInput():\n",
    "    x= int(input(\"Input the numerator\"))\n",
    "    y= int(input(\"Input the denominator\"))\n",
    "\n",
    "    divis = math.floor((x/y))\n",
    "    remainder = (x%y)\n",
    "    msg = f'{y} goes into {x}, {divis} times with a remainder of {remainder}'\n",
    "    print(msg)"
   ]
  },
  {
   "cell_type": "code",
   "execution_count": 24,
   "metadata": {},
   "outputs": [
    {
     "data": {
      "text/latex": [
       "$\\displaystyle 2 ^ 4 = 16$"
      ],
      "text/plain": [
       "<IPython.core.display.Math object>"
      ]
     },
     "metadata": {},
     "output_type": "display_data"
    }
   ],
   "source": [
    "def printPowers(x,y):\n",
    "    display(Math((f'{x} ^ {y} = {x**y}')))\n",
    "\n",
    "\n",
    "\n",
    "def printDivided(x,y):\n",
    "    display(Math((f'\\\\frac{x}{y} = {x/y}')))\n",
    "\n",
    "\n",
    "\n",
    "def compute():\n",
    "\n",
    "\n",
    "    x = int(input(\"Enter the x value\"))\n",
    "    y = int(input(\"Enter the y value\"))\n",
    "\n",
    "    compute = int(input(f\"Press 1 to compute {x**y} or 2 to compute \\\\frac{x}{y}\"))\n",
    "\n",
    "    if(compute !=1 and compute != 2): \n",
    "        print(\"Invalid Choice\")\n",
    "        return\n",
    "\n",
    "    if(compute == 1): printPowers(x,y)\n",
    "    if(compute == 2): printDivided(x,y)\n",
    "    \n",
    "\n",
    "\n",
    "compute()\n"
   ]
  },
  {
   "cell_type": "code",
   "execution_count": null,
   "metadata": {},
   "outputs": [],
   "source": []
  }
 ],
 "metadata": {
  "kernelspec": {
   "display_name": "Python 3 (ipykernel)",
   "language": "python",
   "name": "python3"
  },
  "language_info": {
   "codemirror_mode": {
    "name": "ipython",
    "version": 3
   },
   "file_extension": ".py",
   "mimetype": "text/x-python",
   "name": "python",
   "nbconvert_exporter": "python",
   "pygments_lexer": "ipython3",
   "version": "3.8.13"
  },
  "vscode": {
   "interpreter": {
    "hash": "916dbcbb3f70747c44a77c7bcd40155683ae19c65e1c03b4aa3499c5328201f1"
   }
  }
 },
 "nbformat": 4,
 "nbformat_minor": 4
}
